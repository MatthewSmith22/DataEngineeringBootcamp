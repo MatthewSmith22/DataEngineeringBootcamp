{
 "cells": [
  {
   "cell_type": "markdown",
   "id": "dd5ba22f-5ddd-4aff-86d6-4dc497fbbac8",
   "metadata": {},
   "source": [
    "### BankAccount Class"
   ]
  },
  {
   "cell_type": "markdown",
   "id": "900ebe2f-6279-4e14-b872-ea460e2324c3",
   "metadata": {},
   "source": [
    "The BankAccount class initializes the account with an account number and a default balance of 0. The class also consists of functions to deposit, withdraw, and check the balance of the account. Checks are in place to make sure the amount deposited is a positive number and there is enough money in the account to make the desired withdrawl. "
   ]
  },
  {
   "cell_type": "code",
   "execution_count": 43,
   "id": "182f9d62-12b4-4ec8-ab7d-fab08c07ba3a",
   "metadata": {},
   "outputs": [],
   "source": [
    "class BankAccount:\n",
    "    account_number_counter = 11111110\n",
    "\n",
    "    def __init__(self, balance=0):\n",
    "        self.account_number = BankAccount.account_number_counter\n",
    "        BankAccount.account_number_counter += 1\n",
    "        self.balance = balance\n",
    "\n",
    "    def deposit(self, amount):\n",
    "        if amount > 0:\n",
    "            self.balance += amount\n",
    "            print(f\"Amount Deposited: {amount}. Balance: {self.balance}\")\n",
    "        else:\n",
    "            print(\"Deposit amount must greater than 0!\")\n",
    "\n",
    "    def withdraw(self, amount):\n",
    "        if 0 < amount <= self.balance:\n",
    "            self.balance -= amount\n",
    "            print(f\"Amount Withdrawn: {amount}. Balance: {self.balance}\")\n",
    "        else:\n",
    "            print(\"Insufficient funds!\")\n",
    "\n",
    "    def check_balance(self):\n",
    "        print(f\"Balance: {self.balance}\")"
   ]
  },
  {
   "cell_type": "markdown",
   "id": "9bda5b4c-841f-431f-a072-0aacad924ae3",
   "metadata": {},
   "source": [
    "### HYSavingsAccount Class"
   ]
  },
  {
   "cell_type": "markdown",
   "id": "cb5b01ad-36b9-4616-a314-c6bd86b33e37",
   "metadata": {},
   "source": [
    "The HYSavingsAccount class is a high yield savings account that is inherited from the BankAccount class. It has a default interest rate of 3.5% which, as of this writing, is what the current APY is unfortunately. The class contains a function that applies the interest to the balance of the account. "
   ]
  },
  {
   "cell_type": "code",
   "execution_count": 44,
   "id": "15033a58-ebea-474c-8b8b-6d732e687cbd",
   "metadata": {},
   "outputs": [],
   "source": [
    "class HYSavingsAccount(BankAccount):\n",
    "    def __init__(self, balance=0, interest_rate=0.035):\n",
    "        super().__init__(balance)\n",
    "        self.interest_rate = interest_rate\n",
    "\n",
    "    def apply_interest(self):\n",
    "        interest = self.balance * self.interest_rate\n",
    "        self.balance += interest\n",
    "        print(f\"Interest Applied: {interest}. Balance: {self.balance}\")"
   ]
  },
  {
   "cell_type": "markdown",
   "id": "59058f96-9c29-455f-ab7a-d8b22665e05b",
   "metadata": {},
   "source": [
    "### Customer Class"
   ]
  },
  {
   "cell_type": "markdown",
   "id": "f7145ce5-57ab-498f-a930-c486818ea32c",
   "metadata": {},
   "source": [
    "The Customer class is initialized with a customer ID and name. There are functions to add and delete accounts as well as look up account information."
   ]
  },
  {
   "cell_type": "code",
   "execution_count": 45,
   "id": "51a02679-8e02-41f9-818c-7172abaee5d9",
   "metadata": {},
   "outputs": [],
   "source": [
    "class Customer:\n",
    "    def __init__(self, customer_id, name):\n",
    "        self.customer_id, self.name = customer_id, name\n",
    "        self.accounts = []\n",
    "\n",
    "    def add_account(self, account):\n",
    "        self.accounts.append(account)\n",
    "        print(f\"Account Added   Name: {self.name}  Account Number: {account.account_number}\")\n",
    "\n",
    "    def delete_account(self, account_number):\n",
    "        self.accounts = [acc for acc in self.accounts if acc.account_number != account_number]\n",
    "        print(f\"Account Deleted   Name: {self.name}  Account Number: {account_nunmber}\")\n",
    "\n",
    "    def get_accounts(self):\n",
    "        print(f\"Accounts: {self.accounts}\")  "
   ]
  },
  {
   "cell_type": "markdown",
   "id": "f3e08e1d-9394-4eba-8ee0-7fa747739e4d",
   "metadata": {},
   "source": [
    "### Bank Class"
   ]
  },
  {
   "cell_type": "markdown",
   "id": "eb221c13-8c90-4595-b7a3-84f484ce2ff9",
   "metadata": {},
   "source": [
    "The Bank class allows for the adding of customers and the ability to verify whether someone is a customer. Finally the class contains a funtion that allows the transfer of funds between accounts. It also includes checks to make sure there are sufficient funds to make the desired transfer."
   ]
  },
  {
   "cell_type": "code",
   "execution_count": 46,
   "id": "af45d535-2350-41fe-aa2a-7e68fd7f7363",
   "metadata": {},
   "outputs": [],
   "source": [
    "class Bank:\n",
    "    def __init__(self):\n",
    "        self.customers = []\n",
    "\n",
    "    def add_customer(self, customer):\n",
    "        self.customers.append(customer)\n",
    "        print(f\"New Customer: {customer.name}\")\n",
    "\n",
    "    def find_customer(self, customer_id):\n",
    "        for customer in self.customers:\n",
    "            if customer.customer_id == customer_id:\n",
    "                return customer\n",
    "        return None\n",
    "\n",
    "    def transfer(self, from_account, to_account, amount):\n",
    "        if from_account.balance >= ammount:\n",
    "            from_account.withdraw(ammount)\n",
    "            to_account.deposit(amount)\n",
    "            print(f\"Transferred {amount} from {from_account.account_number} to {to_account.account_number}\")\n",
    "        else:\n",
    "            print(\"Insufficient Funds!\")"
   ]
  },
  {
   "cell_type": "markdown",
   "id": "5c16f0d0-4804-4c4c-92e5-cebe5dcea195",
   "metadata": {},
   "source": [
    "### Tying It All Together"
   ]
  },
  {
   "cell_type": "markdown",
   "id": "0fcd0f1b-8605-4444-8712-c1327337d7e0",
   "metadata": {},
   "source": [
    "Initialize Bank and add customers:"
   ]
  },
  {
   "cell_type": "code",
   "execution_count": 47,
   "id": "13c64dde-cc4c-497f-9e3c-1637ecc452f3",
   "metadata": {},
   "outputs": [],
   "source": [
    "bank = Bank()\n",
    "\n",
    "cust1 = Customer(1, \"Reed Richards\")\n",
    "cust2 = Customer(2, \"Sue Storm\")\n",
    "cust3 = Customer(3, \"Johnny Storm\")\n",
    "cust4 = Customer(4, \"Ben Grimm\")"
   ]
  },
  {
   "cell_type": "code",
   "execution_count": 48,
   "id": "b4139009-94eb-4682-9482-e10862e0bb33",
   "metadata": {},
   "outputs": [
    {
     "name": "stdout",
     "output_type": "stream",
     "text": [
      "New Customer: Reed Richards\n",
      "New Customer: Sue Storm\n",
      "New Customer: Johnny Storm\n",
      "New Customer: Ben Grimm\n"
     ]
    }
   ],
   "source": [
    "bank.add_customer(cust1)\n",
    "bank.add_customer(cust2)\n",
    "bank.add_customer(cust3)\n",
    "bank.add_customer(cust4)"
   ]
  },
  {
   "cell_type": "markdown",
   "id": "8b8fab57-7c77-42c7-80c6-4b1d8efd3cef",
   "metadata": {},
   "source": [
    "Create bank accounts and high yield savings accounts:"
   ]
  },
  {
   "cell_type": "code",
   "execution_count": 49,
   "id": "486ea2dc-89cd-4e75-9436-26da7c19e9ac",
   "metadata": {},
   "outputs": [],
   "source": [
    "account1 = BankAccount()\n",
    "account2 = HYSavingsAccount()\n",
    "account3 = BankAccount()\n",
    "account4 = HYSavingsAccount()\n",
    "account5 = BankAccount()\n",
    "account6 = HYSavingsAccount()\n",
    "account7 = BankAccount()\n",
    "account8 = HYSavingsAccount()"
   ]
  },
  {
   "cell_type": "markdown",
   "id": "9be85ae1-db0a-46ae-925a-e6c8776d052f",
   "metadata": {},
   "source": [
    "Add accounts to customers:"
   ]
  },
  {
   "cell_type": "code",
   "execution_count": 50,
   "id": "f71ce444-fdb5-4f27-8fbb-2b4942fade8f",
   "metadata": {},
   "outputs": [
    {
     "name": "stdout",
     "output_type": "stream",
     "text": [
      "Account Added   Name: Reed Richards  Account Number: 11111110\n",
      "Account Added   Name: Reed Richards  Account Number: 11111111\n",
      "Account Added   Name: Sue Storm  Account Number: 11111112\n",
      "Account Added   Name: Sue Storm  Account Number: 11111113\n",
      "Account Added   Name: Johnny Storm  Account Number: 11111114\n",
      "Account Added   Name: Johnny Storm  Account Number: 11111115\n",
      "Account Added   Name: Ben Grimm  Account Number: 11111116\n",
      "Account Added   Name: Ben Grimm  Account Number: 11111117\n"
     ]
    }
   ],
   "source": [
    "cust1.add_account(account1)\n",
    "cust1.add_account(account2)\n",
    "cust2.add_account(account3)\n",
    "cust2.add_account(account4)\n",
    "cust3.add_account(account5)\n",
    "cust3.add_account(account6)\n",
    "cust4.add_account(account7)\n",
    "cust4.add_account(account8)"
   ]
  },
  {
   "cell_type": "markdown",
   "id": "2c48300c-138c-42a5-8082-1c7624a3e518",
   "metadata": {},
   "source": [
    "Deposit, withdraw, and apply interest:"
   ]
  },
  {
   "cell_type": "code",
   "execution_count": 51,
   "id": "a248dbea-eea4-4dd0-9481-c849675c115c",
   "metadata": {},
   "outputs": [
    {
     "name": "stdout",
     "output_type": "stream",
     "text": [
      "Amount Deposited: 10000. Balance: 10000\n",
      "Amount Withdrawn: 500. Balance: 9500\n",
      "Amount Deposited: 5000. Balance: 5000\n",
      "Interest Applied: 175.00000000000003. Balance: 5175.0\n",
      "Amount Deposited: 10000. Balance: 10000\n",
      "Amount Withdrawn: 500. Balance: 9500\n",
      "Amount Deposited: 5000. Balance: 5000\n",
      "Interest Applied: 175.00000000000003. Balance: 5175.0\n",
      "Amount Deposited: 1000. Balance: 1000\n",
      "Amount Withdrawn: 900. Balance: 100\n",
      "Amount Deposited: 100. Balance: 100\n",
      "Interest Applied: 3.5000000000000004. Balance: 103.5\n",
      "Amount Deposited: 5000. Balance: 5000\n",
      "Amount Withdrawn: 1000. Balance: 4000\n",
      "Amount Deposited: 10000. Balance: 10000\n",
      "Interest Applied: 350.00000000000006. Balance: 10350.0\n"
     ]
    }
   ],
   "source": [
    "account1.deposit(10000)\n",
    "account1.withdraw(500)\n",
    "account2.deposit(5000)\n",
    "account2.apply_interest()\n",
    "\n",
    "account3.deposit(10000)\n",
    "account3.withdraw(500)\n",
    "account4.deposit(5000)\n",
    "account4.apply_interest()\n",
    "\n",
    "account5.deposit(1000)\n",
    "account5.withdraw(900)\n",
    "account6.deposit(100)\n",
    "account6.apply_interest()\n",
    "\n",
    "account7.deposit(5000)\n",
    "account7.withdraw(1000)\n",
    "account8.deposit(10000)\n",
    "account8.apply_interest()"
   ]
  },
  {
   "cell_type": "markdown",
   "id": "daf73cee-fcbf-4079-9658-a7e9eda8fcf3",
   "metadata": {},
   "source": [
    "Check account balances of accounts:"
   ]
  },
  {
   "cell_type": "code",
   "execution_count": 54,
   "id": "e7a719d4-ac58-4d2d-97fc-a42e37c2d814",
   "metadata": {},
   "outputs": [
    {
     "name": "stdout",
     "output_type": "stream",
     "text": [
      "Balance: 9500\n",
      "Balance: 5175.0\n"
     ]
    }
   ],
   "source": [
    "account1.check_balance()\n",
    "account2.check_balance()"
   ]
  }
 ],
 "metadata": {
  "kernelspec": {
   "display_name": "Python [conda env:base] *",
   "language": "python",
   "name": "conda-base-py"
  },
  "language_info": {
   "codemirror_mode": {
    "name": "ipython",
    "version": 3
   },
   "file_extension": ".py",
   "mimetype": "text/x-python",
   "name": "python",
   "nbconvert_exporter": "python",
   "pygments_lexer": "ipython3",
   "version": "3.13.5"
  }
 },
 "nbformat": 4,
 "nbformat_minor": 5
}
